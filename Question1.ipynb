{
  "nbformat": 4,
  "nbformat_minor": 0,
  "metadata": {
    "colab": {
      "provenance": [],
      "authorship_tag": "ABX9TyNQAhcJtjoBrtys4ggZceUZ",
      "include_colab_link": true
    },
    "kernelspec": {
      "name": "python3",
      "display_name": "Python 3"
    },
    "language_info": {
      "name": "python"
    }
  },
  "cells": [
    {
      "cell_type": "markdown",
      "metadata": {
        "id": "view-in-github",
        "colab_type": "text"
      },
      "source": [
        "<a href=\"https://colab.research.google.com/github/roshanps123/Lamp_Stack/blob/main/Question1.ipynb\" target=\"_parent\"><img src=\"https://colab.research.google.com/assets/colab-badge.svg\" alt=\"Open In Colab\"/></a>"
      ]
    },
    {
      "cell_type": "code",
      "execution_count": null,
      "metadata": {
        "id": "sWaRdt8beWxq"
      },
      "outputs": [],
      "source": [
        "from PIL import Image, ImageDraw\n",
        "from IPython.display import display\n",
        "import random\n",
        "import string\n",
        "\n",
        "def tower_of_hanoi_steps(n):\n",
        "    return 2**n - 1\n",
        "\n",
        "def generate_dot_matrix_display(digit, width):\n",
        "    dot_radius = 25\n",
        "    dot_spacing = 5\n",
        "    image_height = 300\n",
        "    image_width = width\n",
        "    pixel_value = 255\n",
        "\n",
        "    num_dots = (width + dot_spacing) // (dot_radius * 2 + dot_spacing)\n",
        "\n",
        "    image = Image.new(\"L\", (image_width, image_height), pixel_value)\n",
        "    draw = ImageDraw.Draw(image)\n",
        "\n",
        "    for i in range(num_dots):\n",
        "        x = i * (2 * dot_radius + dot_spacing) + dot_radius + dot_spacing\n",
        "        y = image_height // 2\n",
        "\n",
        "        if str(i + 1) == str(digit):\n",
        "            dot_color = 0\n",
        "        else:\n",
        "            dot_color = pixel_value\n",
        "\n",
        "        draw.ellipse((x - dot_radius, y - dot_radius, x + dot_radius, y + dot_radius), fill=dot_color)\n",
        "\n",
        "    image.save(f\"dot_matrix_display_digit_{digit}.png\")\n",
        "    return image\n",
        "\n",
        "# Set the size of the circular discs\n",
        "disk_radius = 25\n",
        "# Set the gap between digits\n",
        "gap_between_digits = 10\n",
        "\n",
        "# Get the number of disks from the user\n",
        "num_disks = int(input(\"Enter the number of disks: \"))\n",
        "\n",
        "# Calculate and print the number of steps\n",
        "num_steps = tower_of_hanoi_steps(num_disks)\n",
        "print(f\"Number of steps to solve Tower of Hanoi with {num_disks} disks: {num_steps}\")\n",
        "\n",
        "# Create and display the Dot Matrix Image\n",
        "dot_matrix_image = create_dot_matrix_image(num_steps, disk_radius, gap_between_digits)\n",
        "display(dot_matrix_image)\n",
        "\n",
        "# Generate a dot matrix display for the digit '5' with a width of 800 pixels\n",
        "digit_to_display = 5\n",
        "width_of_display = 800\n",
        "dot_matrix_display = generate_dot_matrix_display(digit=digit_to_display, width=width_of_display)\n",
        "display(dot_matrix_display)\n"
      ]
    }
  ]
}